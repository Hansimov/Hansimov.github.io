{
 "cells": [
  {
   "cell_type": "code",
   "execution_count": null,
   "metadata": {},
   "outputs": [],
   "source": [
    "import numpy as np\n",
    "import random\n",
    "import os\n",
    "from PIL import Image\n",
    "root = \"H:/图片/微博_归档/20211009-20211201-unused/\"\n",
    "imgname = \"limgae-malenia.jpg\"\n",
    "img_fullname = os.path.join(root, imgname)\n",
    "\n",
    "arr = np.array(Image.open(img_fullname))\n",
    "print(arr.shape)\n",
    "row, col, depth = arr.shape\n",
    "\n",
    "mask_color = [150,150,150]\n",
    "# for i in range(3):\n",
    "#     mask_color[i] = int(np.mean(arr[:,:,i]))\n",
    "# print(mask_color)\n",
    "\n",
    "SNR = 4 # Signal/Noise = SNR-1\n",
    "frame_num = 2\n",
    "name, ext = os.path.splitext(imgname)\n",
    "\n",
    "for i in range(frame_num):\n",
    "    new_arr = np.copy(arr)\n",
    "    cnt = 0\n",
    "    for x in range(row):\n",
    "        for y in range(col):\n",
    "            if cnt == SNR:\n",
    "                cnt = 0\n",
    "            if cnt == 0:\n",
    "                noise_flag = False\n",
    "                noise_idx = random.randint(0,SNR-1)\n",
    "            noise_flag = (cnt == noise_idx)\n",
    "            new_arr[x,y] = arr[x,y] if not noise_flag else mask_color\n",
    "            cnt += 1\n",
    "    im = Image.fromarray(np.uint8(new_arr))\n",
    "\n",
    "    new_img_fullname = os.path.join(root, f\"{name}-x{SNR}-{i}{ext}\")\n",
    "    print(f\">>> Saving {new_img_fullname} ...\")\n",
    "    display(im)\n",
    "    im.save(new_img_fullname)\n"
   ]
  },
  {
   "cell_type": "code",
   "execution_count": null,
   "metadata": {},
   "outputs": [],
   "source": [
    "import numpy as np\n",
    "import random\n",
    "import os\n",
    "from PIL import Image\n",
    "root = \"H:/图片/微博_归档/20211009-20211201-unused/\"\n",
    "# imgname = \"limgae-malenia.jpg\"\n",
    "imgname = \"wickellia-tifa-cloud-fuck.jpg\"\n",
    "# imgname = \"liangxing-tifa-umbrella-2.jpeg\"\n",
    "img_fullname = os.path.join(root, imgname)\n",
    "name, ext = os.path.splitext(imgname)\n",
    "\n",
    "arr = np.array(Image.open(img_fullname))\n",
    "print(arr.shape)\n",
    "row, col, depth = arr.shape\n",
    "\n",
    "# shift_pix = (100,100)\n",
    "\n",
    "for dep in [0,1,2]:\n",
    "    new_arr = np.zeros(arr.shape,dtype=np.uint8)\n",
    "    new_arr[:,:,dep] = arr[:,:,dep]\n",
    "    im = Image.fromarray(np.uint8(new_arr))\n",
    "    new_img_fullname = os.path.join(root, f\"{name}-rgb-{dep}{ext}\")\n",
    "    print(f\">>> Saving {new_img_fullname} ...\")\n",
    "    display(im)\n",
    "    im.save(new_img_fullname)"
   ]
  }
 ],
 "metadata": {
  "interpreter": {
   "hash": "d94ea807e9dd88dec85d6135010093db08445b4f78f2386ac1d177de969ce657"
  },
  "kernelspec": {
   "display_name": "Python 3.7.9 64-bit",
   "language": "python",
   "name": "python3"
  },
  "language_info": {
   "codemirror_mode": {
    "name": "ipython",
    "version": 3
   },
   "file_extension": ".py",
   "mimetype": "text/x-python",
   "name": "python",
   "nbconvert_exporter": "python",
   "pygments_lexer": "ipython3",
   "version": "3.7.9"
  },
  "orig_nbformat": 4
 },
 "nbformat": 4,
 "nbformat_minor": 2
}
